{
 "cells": [
  {
   "cell_type": "code",
   "execution_count": 1,
   "metadata": {
    "collapsed": true
   },
   "outputs": [],
   "source": [
    "import numpy as np\n",
    "from sklearn import svm\n",
    "from collections import Counter\n",
    "from sklearn.neighbors import KNeighborsClassifier"
   ]
  },
  {
   "cell_type": "code",
   "execution_count": 2,
   "metadata": {
    "collapsed": true
   },
   "outputs": [],
   "source": [
    "def get_str2numb_numb2dict(vect):\n",
    "    str_to_ind_dict = {}\n",
    "    count = 0\n",
    "    for v in vect:\n",
    "        if v not in str_to_ind_dict.keys():\n",
    "            str_to_ind_dict[v] = count\n",
    "            count += 1\n",
    "    reverse_dict = {v:k for k, v in str_to_ind_dict.items()}\n",
    "    return str_to_ind_dict, reverse_dict\n",
    "\n",
    "def apply_dict(dict_keys, X):\n",
    "    res = []\n",
    "    for x in X:\n",
    "        res.append(dict_keys[x])\n",
    "    return res\n",
    "\n",
    "def arithmetic_round(x):\n",
    "    a = int(x)\n",
    "    b = x - a\n",
    "    if (b < 0.5): \n",
    "        return round(x)\n",
    "    else:\n",
    "        return round(x + 0.01)"
   ]
  },
  {
   "cell_type": "code",
   "execution_count": 3,
   "metadata": {
    "collapsed": true
   },
   "outputs": [],
   "source": [
    "def identify_knn(X, y, test_features, test_y, ind_to_str_dict, metric='chebyshev'):\n",
    "    neigh = KNeighborsClassifier(n_neighbors=2, metric=metric)\n",
    "    neigh.fit(X, y) \n",
    "    res = neigh.predict(test_features) \n",
    "    predict = apply_dict(ind_to_str_dict, res)\n",
    "    count = 0\n",
    "    for i,j in zip(predict, test_y):\n",
    "        if i == j:\n",
    "            count += 1\n",
    "\n",
    "    print(\"top-1 autor accuracy: {}%\".format(arithmetic_round(100 * count / len(test_y))))\n",
    "\n",
    "    predict = neigh.predict_proba(test_features)\n",
    "    count = 0\n",
    "    for i, res in enumerate(predict):\n",
    "        ind = np.argpartition(res, -4)[-4:]\n",
    "        ind = apply_dict(ind_to_str_dict , ind)\n",
    "        if test_y[i] in ind:\n",
    "            count += 1\n",
    "\n",
    "    print(\"top-5 autor accuracy: {}%\".format(arithmetic_round(100 * count / len(test_y))))"
   ]
  },
  {
   "cell_type": "markdown",
   "metadata": {},
   "source": [
    "# Load codebook embeddings with kernel_size 13"
   ]
  },
  {
   "cell_type": "code",
   "execution_count": 4,
   "metadata": {
    "collapsed": true
   },
   "outputs": [],
   "source": [
    "train_features = np.load('data/train_embeddings_13.npy')\n",
    "val_features = np.load('data/val_embeddings_13.npy')\n",
    "test_features = np.load('data/test_embeddings_13.npy')\n",
    "\n",
    "train_y = np.load('data/train_y.npy')\n",
    "val_y = np.load('data/val_y.npy')\n",
    "test_y = np.load('data/test_y.npy')"
   ]
  },
  {
   "cell_type": "code",
   "execution_count": 5,
   "metadata": {
    "collapsed": true
   },
   "outputs": [],
   "source": [
    "str_to_ind_dict, ind_to_str_dict = get_str2numb_numb2dict(train_y)\n",
    "\n",
    "X, y = train_features, train_y \n",
    "y = np.array(apply_dict(str_to_ind_dict, y))"
   ]
  },
  {
   "cell_type": "markdown",
   "metadata": {},
   "source": [
    "# Fit KNN:"
   ]
  },
  {
   "cell_type": "markdown",
   "metadata": {},
   "source": [
    "### Euclidean distance:"
   ]
  },
  {
   "cell_type": "code",
   "execution_count": 6,
   "metadata": {},
   "outputs": [
    {
     "name": "stdout",
     "output_type": "stream",
     "text": [
      "top-1 autor accuracy: 37%\n",
      "top-5 autor accuracy: 64%\n"
     ]
    }
   ],
   "source": [
    "identify_knn(X, y, test_features, test_y, ind_to_str_dict, metric='euclidean')"
   ]
  },
  {
   "cell_type": "markdown",
   "metadata": {},
   "source": [
    "### Manhattan distance:"
   ]
  },
  {
   "cell_type": "code",
   "execution_count": 7,
   "metadata": {},
   "outputs": [
    {
     "name": "stdout",
     "output_type": "stream",
     "text": [
      "top-1 autor accuracy: 43%\n",
      "top-5 autor accuracy: 69%\n"
     ]
    }
   ],
   "source": [
    "identify_knn(X, y, test_features, test_y, ind_to_str_dict, metric='manhattan')"
   ]
  },
  {
   "cell_type": "markdown",
   "metadata": {},
   "source": [
    "### Chebyshev distance:"
   ]
  },
  {
   "cell_type": "code",
   "execution_count": 8,
   "metadata": {},
   "outputs": [
    {
     "name": "stdout",
     "output_type": "stream",
     "text": [
      "top-1 autor accuracy: 21%\n",
      "top-5 autor accuracy: 39%\n"
     ]
    }
   ],
   "source": [
    "identify_knn(X, y, test_features, test_y, ind_to_str_dict, metric='chebyshev')"
   ]
  },
  {
   "cell_type": "markdown",
   "metadata": {},
   "source": [
    "# Increase the number of training data"
   ]
  },
  {
   "cell_type": "code",
   "execution_count": 9,
   "metadata": {
    "collapsed": true
   },
   "outputs": [],
   "source": [
    "X = np.concatenate((train_features, val_features), axis=0)\n",
    "y = np.concatenate((train_y, val_y)) \n",
    "y = np.array(apply_dict(str_to_ind_dict, y))"
   ]
  },
  {
   "cell_type": "markdown",
   "metadata": {},
   "source": [
    "# Fit KNN:"
   ]
  },
  {
   "cell_type": "markdown",
   "metadata": {},
   "source": [
    "### Euclidean distance:"
   ]
  },
  {
   "cell_type": "code",
   "execution_count": 10,
   "metadata": {},
   "outputs": [
    {
     "name": "stdout",
     "output_type": "stream",
     "text": [
      "top-1 autor accuracy: 54%\n",
      "top-5 autor accuracy: 68%\n"
     ]
    }
   ],
   "source": [
    "identify_knn(X, y, test_features, test_y, ind_to_str_dict, metric='euclidean')"
   ]
  },
  {
   "cell_type": "markdown",
   "metadata": {},
   "source": [
    "### Manhattan distance:"
   ]
  },
  {
   "cell_type": "code",
   "execution_count": 11,
   "metadata": {},
   "outputs": [
    {
     "name": "stdout",
     "output_type": "stream",
     "text": [
      "top-1 autor accuracy: 56%\n",
      "top-5 autor accuracy: 75%\n"
     ]
    }
   ],
   "source": [
    "identify_knn(X, y, test_features, test_y, ind_to_str_dict, metric='manhattan')"
   ]
  },
  {
   "cell_type": "markdown",
   "metadata": {},
   "source": [
    "### Chebyshev distance:"
   ]
  },
  {
   "cell_type": "code",
   "execution_count": 12,
   "metadata": {},
   "outputs": [
    {
     "name": "stdout",
     "output_type": "stream",
     "text": [
      "top-1 autor accuracy: 29%\n",
      "top-5 autor accuracy: 46%\n"
     ]
    }
   ],
   "source": [
    "identify_knn(X, y, test_features, test_y, ind_to_str_dict, metric='chebyshev')"
   ]
  },
  {
   "cell_type": "markdown",
   "metadata": {},
   "source": [
    "# Add OBIFs"
   ]
  },
  {
   "cell_type": "code",
   "execution_count": 13,
   "metadata": {
    "collapsed": true
   },
   "outputs": [],
   "source": [
    "train_obifs = np.load('OBIFs/train_obifs.npy')\n",
    "val_obifs = np.load('OBIFs/val_obifs.npy')\n",
    "test_obifs = np.load('OBIFs/test_obifs.npy')\n",
    "\n",
    "\n",
    "train_features = np.concatenate((train_features, train_obifs), axis = 1)\n",
    "val_features = np.concatenate((val_features, val_obifs), axis = 1)\n",
    "test_features = np.concatenate((test_features, test_obifs), axis = 1)"
   ]
  },
  {
   "cell_type": "code",
   "execution_count": 14,
   "metadata": {
    "collapsed": true
   },
   "outputs": [],
   "source": [
    "X, y = train_features, train_y \n",
    "y = np.array(apply_dict(str_to_ind_dict, y))"
   ]
  },
  {
   "cell_type": "markdown",
   "metadata": {},
   "source": [
    "# Fit KNN with OBIFs:"
   ]
  },
  {
   "cell_type": "markdown",
   "metadata": {},
   "source": [
    "### Euclidean distance:"
   ]
  },
  {
   "cell_type": "code",
   "execution_count": 15,
   "metadata": {},
   "outputs": [
    {
     "name": "stdout",
     "output_type": "stream",
     "text": [
      "top-1 autor accuracy: 40%\n",
      "top-5 autor accuracy: 76%\n"
     ]
    }
   ],
   "source": [
    "identify_knn(X, y, test_features, test_y, ind_to_str_dict, metric='euclidean')"
   ]
  },
  {
   "cell_type": "markdown",
   "metadata": {},
   "source": [
    "### Manhattan distance:"
   ]
  },
  {
   "cell_type": "code",
   "execution_count": 16,
   "metadata": {},
   "outputs": [
    {
     "name": "stdout",
     "output_type": "stream",
     "text": [
      "top-1 autor accuracy: 51%\n",
      "top-5 autor accuracy: 80%\n"
     ]
    }
   ],
   "source": [
    "identify_knn(X, y, test_features, test_y, ind_to_str_dict, metric='manhattan')"
   ]
  },
  {
   "cell_type": "markdown",
   "metadata": {},
   "source": [
    "### Chebyshev distance:"
   ]
  },
  {
   "cell_type": "code",
   "execution_count": 17,
   "metadata": {},
   "outputs": [
    {
     "name": "stdout",
     "output_type": "stream",
     "text": [
      "top-1 autor accuracy: 35%\n",
      "top-5 autor accuracy: 64%\n"
     ]
    }
   ],
   "source": [
    "identify_knn(X, y, test_features, test_y, ind_to_str_dict, metric='chebyshev')"
   ]
  },
  {
   "cell_type": "markdown",
   "metadata": {},
   "source": [
    "# Increase the number of training data"
   ]
  },
  {
   "cell_type": "code",
   "execution_count": 18,
   "metadata": {
    "collapsed": true
   },
   "outputs": [],
   "source": [
    "X = np.concatenate((train_features, val_features), axis=0)\n",
    "y = np.concatenate((train_y, val_y)) \n",
    "y = np.array(apply_dict(str_to_ind_dict, y))"
   ]
  },
  {
   "cell_type": "markdown",
   "metadata": {},
   "source": [
    "# Fit KNN with OBIFs:"
   ]
  },
  {
   "cell_type": "markdown",
   "metadata": {},
   "source": [
    "### Euclidean distance:"
   ]
  },
  {
   "cell_type": "code",
   "execution_count": 19,
   "metadata": {},
   "outputs": [
    {
     "name": "stdout",
     "output_type": "stream",
     "text": [
      "top-1 autor accuracy: 71%\n",
      "top-5 autor accuracy: 89%\n"
     ]
    }
   ],
   "source": [
    "identify_knn(X, y, test_features, test_y, ind_to_str_dict, metric='euclidean')"
   ]
  },
  {
   "cell_type": "markdown",
   "metadata": {},
   "source": [
    "### Manhattan distance:"
   ]
  },
  {
   "cell_type": "code",
   "execution_count": 20,
   "metadata": {},
   "outputs": [
    {
     "name": "stdout",
     "output_type": "stream",
     "text": [
      "top-1 autor accuracy: 75%\n",
      "top-5 autor accuracy: 92%\n"
     ]
    }
   ],
   "source": [
    "identify_knn(X, y, test_features, test_y, ind_to_str_dict, metric='manhattan')"
   ]
  },
  {
   "cell_type": "markdown",
   "metadata": {},
   "source": [
    "### Chebyshev distance:"
   ]
  },
  {
   "cell_type": "code",
   "execution_count": 21,
   "metadata": {},
   "outputs": [
    {
     "name": "stdout",
     "output_type": "stream",
     "text": [
      "top-1 autor accuracy: 60%\n",
      "top-5 autor accuracy: 74%\n"
     ]
    }
   ],
   "source": [
    "identify_knn(X, y, test_features, test_y, ind_to_str_dict, metric='chebyshev')"
   ]
  },
  {
   "cell_type": "code",
   "execution_count": null,
   "metadata": {
    "collapsed": true
   },
   "outputs": [],
   "source": []
  }
 ],
 "metadata": {
  "kernelspec": {
   "display_name": "Python 3",
   "language": "python",
   "name": "python3"
  },
  "language_info": {
   "codemirror_mode": {
    "name": "ipython",
    "version": 3
   },
   "file_extension": ".py",
   "mimetype": "text/x-python",
   "name": "python",
   "nbconvert_exporter": "python",
   "pygments_lexer": "ipython3",
   "version": "3.6.4"
  }
 },
 "nbformat": 4,
 "nbformat_minor": 2
}
